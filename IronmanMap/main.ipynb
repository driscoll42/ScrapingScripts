{
 "cells": [
  {
   "cell_type": "code",
   "source": [
    "# Used to add locations on Google Maps here: https://www.google.com/maps/d/u/0/edit?mid=1z3wWmoi6MFwQs9UReqbQUFVVyLWm3znH&usp=sharing\n",
    "\n",
    "from selenium import webdriver\n",
    "from selenium.webdriver.common.by import By\n",
    "import pandas as pd\n",
    "import time\n",
    "\n",
    "url = \"https://www.ironman.com/races\"\n",
    "\n",
    "driver = webdriver.Firefox()\n",
    "\n",
    "driver.get(f'{url}')\n",
    "time.sleep(2)"
   ],
   "metadata": {
    "collapsed": false,
    "pycharm": {
     "name": "#%%\n"
    },
    "ExecuteTime": {
     "end_time": "2024-09-10T23:20:03.094504Z",
     "start_time": "2024-09-10T23:19:48.055503Z"
    }
   },
   "outputs": [],
   "execution_count": 1
  },
  {
   "cell_type": "code",
   "source": [
    "cookie_accept = '//*[@id=\"onetrust-accept-btn-handler\"]'\n",
    "\n",
    "# Click on the cookie accept button\n",
    "driver.find_element(By.XPATH, cookie_accept).click()"
   ],
   "metadata": {
    "ExecuteTime": {
     "end_time": "2024-09-10T23:21:45.879656Z",
     "start_time": "2024-09-10T23:21:45.504374Z"
    }
   },
   "outputs": [],
   "execution_count": 6
  },
  {
   "cell_type": "code",
   "source": [
    "race_dict = {}\n",
    "races_df = pd.DataFrame()\n",
    "half_df = pd.DataFrame()\n",
    "full_df = pd.DataFrame()\n",
    "olym_df = pd.DataFrame()\n",
    "for page in range(15):\n",
    "    for race in range(1, 16):\n",
    "        try:\n",
    "            race_name = driver.find_element(By.XPATH, f'/html/body/div[7]/div/div[2]/div[2]/div[5]/div/div/div/div[1]/div[{race}]/div[2]/div[1]/div[1]/h3').text\n",
    "            race_dict['Race Name'] = race_name\n",
    "\n",
    "            race_location = driver.find_element(By.XPATH, f'/html/body/div[7]/div/div[2]/div[2]/div[5]/div/div/div/div[1]/div[{race}]/div[2]/div[1]/div[1]/p[3]').text\n",
    "            race_dict['Location'] = race_location\n",
    "\n",
    "            race_link = driver.find_element(By.XPATH, f'/html/body/div[7]/div/div[2]/div[2]/div[5]/div/div/div/div[1]/div[{race}]/div[2]/div[1]/div[2]/a').get_attribute('href')\n",
    "            race_dict['URL'] = race_link\n",
    "\n",
    "            race_swim = driver.find_element(By.XPATH, f'/html/body/div[7]/div/div[2]/div[2]/div[5]/div/div/div/div[1]/div[{race}]/div[2]/div[2]/div[1]/p/b').text\n",
    "            race_dict['Swim Type'] = race_swim\n",
    "\n",
    "            race_bike = driver.find_element(By.XPATH, f'/html/body/div[7]/div/div[2]/div[2]/div[5]/div/div/div/div[1]/div[{race}]/div[2]/div[2]/div[2]/p/b').text\n",
    "            race_dict['Bike Type'] = race_bike\n",
    "\n",
    "            race_run = driver.find_element(By.XPATH, f'/html/body/div[7]/div/div[2]/div[2]/div[5]/div/div/div/div[1]/div[{race}]/div[2]/div[2]/div[3]/p/b').text\n",
    "            race_dict['Run Type'] = race_run\n",
    "\n",
    "            race_air_temp = driver.find_element(By.XPATH, f'/html/body/div[7]/div/div[2]/div[2]/div[5]/div/div/div/div[1]/div[{race}]/div[2]/div[2]/div[4]/p/b').text\n",
    "            race_dict['Air Temp'] = race_air_temp\n",
    "\n",
    "            race_water_temp = driver.find_element(By.XPATH, f'/html/body/div[7]/div/div[2]/div[2]/div[5]/div/div/div/div[1]/div[{race}]/div[2]/div[2]/div[5]/p/b').text\n",
    "            race_dict['Water Temp'] = race_water_temp\n",
    "\n",
    "            race_airport = driver.find_element(By.XPATH, f'/html/body/div[7]/div/div[2]/div[2]/div[5]/div/div/div/div[1]/div[{race}]/div[2]/div[2]/div[6]/p/b').text\n",
    "            race_dict['Airport'] = race_airport\n",
    "\n",
    "            race_image = driver.find_element(By.XPATH, f'/html/body/div[7]/div/div[2]/div[2]/div[5]/div/div/div/div[1]/div[{race}]/div[1]/img').get_attribute('src')\n",
    "            race_dict['Race Image'] = race_image\n",
    "\n",
    "            race_month = driver.find_element(By.XPATH, f'/html/body/div[7]/div/div[2]/div[2]/div[5]/div/div/div/div[1]/div[{race}]/div[1]/div[1]/p[1]').text\n",
    "            race_dict['Race Month'] = race_month\n",
    "\n",
    "            if '70.3' in race_name:\n",
    "                race_type = '70.3'\n",
    "                race_dict['Race Type'] = race_type\n",
    "                half_df = pd.concat([half_df, pd.DataFrame(race_dict, index=[0])], ignore_index=True)\n",
    "            elif '5150' in race_name:\n",
    "                race_type = 'Olympic'\n",
    "                race_dict['Race Type'] = race_type\n",
    "                olym_df = pd.concat([olym_df, pd.DataFrame(race_dict, index=[0])], ignore_index=True)\n",
    "            else:\n",
    "                race_type = 'Full'\n",
    "                race_dict['Race Type'] = race_type\n",
    "                full_df = pd.concat([full_df, pd.DataFrame(race_dict, index=[0])], ignore_index=True)\n",
    "\n",
    "            races_df = pd.concat([races_df, pd.DataFrame(race_dict, index=[0])], ignore_index=True)\n",
    "        except Exception as e:\n",
    "            print(e)\n",
    "            break\n",
    "    print(len(races_df))\n",
    "    driver.execute_script(\"window.scrollTo(0,document.body.scrollHeight)\")\n",
    "    time.sleep(0.25)\n",
    "\n",
    "    try:\n",
    "        driver.find_element(By.XPATH, '/html/body/div[7]/div/div[2]/div[2]/div[5]/div/div/div/div[2]/button[2]').click()\n",
    "    except Exception as e:\n",
    "        pass\n",
    "    time.sleep(0.5)"
   ],
   "metadata": {
    "collapsed": false,
    "pycharm": {
     "name": "#%%\n"
    }
   },
   "outputs": [],
   "execution_count": null
  },
  {
   "cell_type": "code",
   "source": [
    "races_df.to_excel('All Ironman Races.xlsx')\n",
    "olym_df.to_excel('Olympic (5150) Ironman Races.xlsx')\n",
    "half_df.to_excel('Half (70.3) Ironman Races.xlsx')\n",
    "full_df.to_excel('Full (140.6) Ironman Races.xlsx')"
   ],
   "metadata": {
    "collapsed": false,
    "pycharm": {
     "name": "#%%\n"
    },
    "ExecuteTime": {
     "end_time": "2024-09-10T23:49:41.009214Z",
     "start_time": "2024-09-10T23:49:40.580133Z"
    }
   },
   "outputs": [],
   "execution_count": 22
  },
  {
   "cell_type": "code",
   "execution_count": null,
   "outputs": [],
   "source": [],
   "metadata": {
    "collapsed": false,
    "pycharm": {
     "name": "#%%\n"
    }
   }
  }
 ],
 "metadata": {
  "kernelspec": {
   "display_name": "Python 3",
   "language": "python",
   "name": "python3"
  },
  "language_info": {
   "codemirror_mode": {
    "name": "ipython",
    "version": 2
   },
   "file_extension": ".py",
   "mimetype": "text/x-python",
   "name": "python",
   "nbconvert_exporter": "python",
   "pygments_lexer": "ipython2",
   "version": "2.7.6"
  }
 },
 "nbformat": 4,
 "nbformat_minor": 0
}
