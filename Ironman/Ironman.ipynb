{
 "cells": [
  {
   "cell_type": "code",
   "execution_count": 51,
   "outputs": [],
   "source": [
    "# Used to add locations on Google Maps here: https://www.google.com/maps/d/u/0/edit?mid=1z3wWmoi6MFwQs9UReqbQUFVVyLWm3znH&usp=sharing\n",
    "\n",
    "from selenium import webdriver\n",
    "import pandas as pd\n",
    "import time\n",
    "\n",
    "url = \"https://www.ironman.com/races\"\n",
    "\n",
    "driver = webdriver.Firefox()\n",
    "\n",
    "driver.get(f'{url}')"
   ],
   "metadata": {
    "collapsed": false,
    "pycharm": {
     "name": "#%%\n"
    }
   }
  },
  {
   "cell_type": "code",
   "execution_count": 52,
   "outputs": [],
   "source": [
    "cookie_accep = '//*[@id=\"onetrust-accept-btn-handler\"]'\n",
    "\n",
    "driver.find_element_by_xpath('//*[@id=\"onetrust-accept-btn-handler\"]').click()"
   ],
   "metadata": {
    "collapsed": false,
    "pycharm": {
     "name": "#%%\n"
    }
   }
  },
  {
   "cell_type": "code",
   "execution_count": 55,
   "outputs": [],
   "source": [
    "race_dict = {}\n",
    "races_df = pd.DataFrame()\n",
    "for page in range(15):\n",
    "    for race in range(1, 16):\n",
    "        try:\n",
    "            race_name = driver.find_element_by_xpath(f'/html/body/div[6]/div/div[2]/div[2]/div[2]/div/div/div/div[1]/div[{race}]/div[2]/div[1]/div[1]/h3').text\n",
    "            if '70.3' in race_name:\n",
    "                race_type = '70.3'\n",
    "            elif '5150' in race_name:\n",
    "                race_type = 'Olympic'\n",
    "            else:\n",
    "                race_type = 'Full'\n",
    "\n",
    "            race_dict['Race Name'] = race_name\n",
    "            race_dict['Race Type'] = race_type\n",
    "\n",
    "            race_location = driver.find_element_by_xpath(f'/html/body/div[6]/div/div[2]/div[2]/div[2]/div/div/div/div[1]/div[{race}]/div[2]/div[1]/div[1]/p[3]').text\n",
    "            race_dict['Location'] = race_location\n",
    "            race_link = driver.find_element_by_xpath(f'/html/body/div[6]/div/div[2]/div[2]/div[2]/div/div/div/div[1]/div[{race}]/div[2]/div[1]/div[2]/a').get_attribute('href')\n",
    "            race_dict['URL'] = race_link\n",
    "            race_swim = driver.find_element_by_xpath(f'/html/body/div[6]/div/div[2]/div[2]/div[2]/div/div/div/div[1]/div[{race}]/div[2]/div[2]/div[1]/p/b').text\n",
    "            race_dict['Swim Type'] = race_swim\n",
    "            race_bike = driver.find_element_by_xpath(f'/html/body/div[6]/div/div[2]/div[2]/div[2]/div/div/div/div[1]/div[{race}]/div[2]/div[2]/div[2]/p/b').text\n",
    "            race_dict['Bike Type'] = race_bike\n",
    "            race_run = driver.find_element_by_xpath(f'/html/body/div[6]/div/div[2]/div[2]/div[2]/div/div/div/div[1]/div[{race}]/div[2]/div[2]/div[3]/p/b').text\n",
    "            race_dict['Run Type'] = race_run\n",
    "            race_air_temp = driver.find_element_by_xpath(f'/html/body/div[6]/div/div[2]/div[2]/div[2]/div/div/div/div[1]/div[{race}]/div[2]/div[2]/div[4]/p/b').text\n",
    "            race_dict['Air Temp'] = race_air_temp\n",
    "            race_water_temp = driver.find_element_by_xpath(f'/html/body/div[6]/div/div[2]/div[2]/div[2]/div/div/div/div[1]/div[{race}]/div[2]/div[2]/div[5]/p/b').text\n",
    "            race_dict['Water Temp'] = race_water_temp\n",
    "            race_airport = driver.find_element_by_xpath(f'/html/body/div[6]/div/div[2]/div[2]/div[2]/div/div/div/div[1]/div[{race}]/div[2]/div[2]/div[6]/p/b').text\n",
    "            race_dict['Airport'] = race_airport\n",
    "            race_image = driver.find_element_by_xpath(f'/html/body/div[6]/div/div[2]/div[2]/div[2]/div/div/div/div[1]/div[{race}]/div[1]/img').get_attribute('src')\n",
    "            race_dict['Race Image'] = race_image\n",
    "            # print(race_dict)\n",
    "            races_df = races_df.append(race_dict, ignore_index=True)\n",
    "        except Exception as e:\n",
    "            break\n",
    "    driver.execute_script(\"window.scrollTo(0,document.body.scrollHeight)\")\n",
    "    time.sleep(0.25)\n",
    "    try:\n",
    "        driver.find_element_by_xpath('/html/body/div[6]/div/div[2]/div[2]/div[2]/div/div/div/div[2]/button[2]').click()\n",
    "    except Exception as e:\n",
    "        pass\n",
    "    time.sleep(0.5)"
   ],
   "metadata": {
    "collapsed": false,
    "pycharm": {
     "name": "#%%\n"
    }
   }
  },
  {
   "cell_type": "code",
   "execution_count": 56,
   "outputs": [
    {
     "data": {
      "text/plain": "                                          Race Name Race Type  \\\n0                              IRONMAN 70.3 Goseong      70.3   \n1          IRONMAN 70.3 Luxembourg - Région Moselle      70.3   \n2                          IRONMAN 70.3 Switzerland      70.3   \n3              5150 Triathlon Series Mont-Tremblant   Olympic   \n4               5150 Triathlon Series Westfriesland   Olympic   \n..                                              ...       ...   \n206                                IRONMAN Mallorca      Full   \n207              5150 Triathlon Series Buenos Aires   Olympic   \n208        5150 Triathlon Series Maastricht-Limburg   Olympic   \n209                  IRONMAN Pays d'Aix-en-Provence      Full   \n210  IRONMAN North American Championship Des Moines      Full   \n\n                         Location  \\\n0                  GOSEONG, KOREA   \n1      REGION MOSELLE, LUXEMBOURG   \n2    RAPPERSWIL-JONA, SWITZERLAND   \n3          MONT-TREMBLANT, QUEBEC   \n4      WESTFRIESLAND, NETHERLANDS   \n..                            ...   \n206      ALCÚDIA, MALLORCA, SPAIN   \n207       BUENOS AIRES, ARGENTINA   \n208       MAASTRICHT, NETHERLANDS   \n209       AIX-EN-PROVENCE, FRANCE   \n210              DES MOINES, IOWA   \n\n                                                 URL Swim Type Bike Type  \\\n0                  https://ironman.com/im703-goseong     OCEAN   ROLLING   \n1               https://ironman.com/im703-luxembourg     RIVER   ROLLING   \n2              https://ironman.com/im703-switzerland      LAKE     HILLY   \n3            https://ironman.com/5150-mont-tremblant      LAKE   ROLLING   \n4             https://ironman.com/5150-westfriesland      LAKE      FLAT   \n..                                               ...       ...       ...   \n206                  https://ironman.com/im-mallorca     OCEAN     HILLY   \n207            https://ironman.com/5150-buenos-aires      LAKE      FLAT   \n208  https://www.ironman.com/5150-maastricht-limburg     RIVER   ROLLING   \n209       https://www.ironman.com/im-aix-en-provence      LAKE   ROLLING   \n210            https://www.ironman.com/im-des-moines      LAKE   ROLLING   \n\n    Run Type       Air Temp     Water Temp Airport  \\\n0      HILLY  73° F / 23° C  68° F / 20° C     PUS   \n1       FLAT  77° F / 25° C  73° F / 23° C     LUX   \n2    ROLLING  68° F / 20° C  63° F / 17° C     ZRH   \n3    ROLLING  63° F / 17° C  64° F / 18° C     YUL   \n4       FLAT  68° F / 20° C  63° F / 17° C     AMS   \n..       ...            ...            ...     ...   \n206     FLAT  77° F / 25° C  63° F / 17° C     PMI   \n207     FLAT  80° F / 27° C  70° F / 21° C     EZE   \n208  ROLLING  77° F / 25° C  68° F / 20° C     MST   \n209  ROLLING  68° F / 20° C  64° F / 18° C     MRS   \n210     FLAT  71° F / 22° C  72° F / 22° C     DSM   \n\n                                            Race Image  \n0    https://cdn2.sportngin.com/attachments/photo/9...  \n1    https://cdn2.sportngin.com/attachments/photo/f...  \n2    https://cdn3.sportngin.com/attachments/photo/e...  \n3    https://cdn4.sportngin.com/attachments/photo/6...  \n4    https://cdn1.sportngin.com/attachments/photo/0...  \n..                                                 ...  \n206  https://cdn3.sportngin.com/attachments/photo/5...  \n207  https://cdn3.sportngin.com/attachments/photo/d...  \n208  https://cdn4.sportngin.com/attachments/photo/7...  \n209  https://cdn1.sportngin.com/attachments/photo/d...  \n210  https://cdn1.sportngin.com/attachments/photo/f...  \n\n[211 rows x 11 columns]",
      "text/html": "<div>\n<style scoped>\n    .dataframe tbody tr th:only-of-type {\n        vertical-align: middle;\n    }\n\n    .dataframe tbody tr th {\n        vertical-align: top;\n    }\n\n    .dataframe thead th {\n        text-align: right;\n    }\n</style>\n<table border=\"1\" class=\"dataframe\">\n  <thead>\n    <tr style=\"text-align: right;\">\n      <th></th>\n      <th>Race Name</th>\n      <th>Race Type</th>\n      <th>Location</th>\n      <th>URL</th>\n      <th>Swim Type</th>\n      <th>Bike Type</th>\n      <th>Run Type</th>\n      <th>Air Temp</th>\n      <th>Water Temp</th>\n      <th>Airport</th>\n      <th>Race Image</th>\n    </tr>\n  </thead>\n  <tbody>\n    <tr>\n      <th>0</th>\n      <td>IRONMAN 70.3 Goseong</td>\n      <td>70.3</td>\n      <td>GOSEONG, KOREA</td>\n      <td>https://ironman.com/im703-goseong</td>\n      <td>OCEAN</td>\n      <td>ROLLING</td>\n      <td>HILLY</td>\n      <td>73° F / 23° C</td>\n      <td>68° F / 20° C</td>\n      <td>PUS</td>\n      <td>https://cdn2.sportngin.com/attachments/photo/9...</td>\n    </tr>\n    <tr>\n      <th>1</th>\n      <td>IRONMAN 70.3 Luxembourg - Région Moselle</td>\n      <td>70.3</td>\n      <td>REGION MOSELLE, LUXEMBOURG</td>\n      <td>https://ironman.com/im703-luxembourg</td>\n      <td>RIVER</td>\n      <td>ROLLING</td>\n      <td>FLAT</td>\n      <td>77° F / 25° C</td>\n      <td>73° F / 23° C</td>\n      <td>LUX</td>\n      <td>https://cdn2.sportngin.com/attachments/photo/f...</td>\n    </tr>\n    <tr>\n      <th>2</th>\n      <td>IRONMAN 70.3 Switzerland</td>\n      <td>70.3</td>\n      <td>RAPPERSWIL-JONA, SWITZERLAND</td>\n      <td>https://ironman.com/im703-switzerland</td>\n      <td>LAKE</td>\n      <td>HILLY</td>\n      <td>ROLLING</td>\n      <td>68° F / 20° C</td>\n      <td>63° F / 17° C</td>\n      <td>ZRH</td>\n      <td>https://cdn3.sportngin.com/attachments/photo/e...</td>\n    </tr>\n    <tr>\n      <th>3</th>\n      <td>5150 Triathlon Series Mont-Tremblant</td>\n      <td>Olympic</td>\n      <td>MONT-TREMBLANT, QUEBEC</td>\n      <td>https://ironman.com/5150-mont-tremblant</td>\n      <td>LAKE</td>\n      <td>ROLLING</td>\n      <td>ROLLING</td>\n      <td>63° F / 17° C</td>\n      <td>64° F / 18° C</td>\n      <td>YUL</td>\n      <td>https://cdn4.sportngin.com/attachments/photo/6...</td>\n    </tr>\n    <tr>\n      <th>4</th>\n      <td>5150 Triathlon Series Westfriesland</td>\n      <td>Olympic</td>\n      <td>WESTFRIESLAND, NETHERLANDS</td>\n      <td>https://ironman.com/5150-westfriesland</td>\n      <td>LAKE</td>\n      <td>FLAT</td>\n      <td>FLAT</td>\n      <td>68° F / 20° C</td>\n      <td>63° F / 17° C</td>\n      <td>AMS</td>\n      <td>https://cdn1.sportngin.com/attachments/photo/0...</td>\n    </tr>\n    <tr>\n      <th>...</th>\n      <td>...</td>\n      <td>...</td>\n      <td>...</td>\n      <td>...</td>\n      <td>...</td>\n      <td>...</td>\n      <td>...</td>\n      <td>...</td>\n      <td>...</td>\n      <td>...</td>\n      <td>...</td>\n    </tr>\n    <tr>\n      <th>206</th>\n      <td>IRONMAN Mallorca</td>\n      <td>Full</td>\n      <td>ALCÚDIA, MALLORCA, SPAIN</td>\n      <td>https://ironman.com/im-mallorca</td>\n      <td>OCEAN</td>\n      <td>HILLY</td>\n      <td>FLAT</td>\n      <td>77° F / 25° C</td>\n      <td>63° F / 17° C</td>\n      <td>PMI</td>\n      <td>https://cdn3.sportngin.com/attachments/photo/5...</td>\n    </tr>\n    <tr>\n      <th>207</th>\n      <td>5150 Triathlon Series Buenos Aires</td>\n      <td>Olympic</td>\n      <td>BUENOS AIRES, ARGENTINA</td>\n      <td>https://ironman.com/5150-buenos-aires</td>\n      <td>LAKE</td>\n      <td>FLAT</td>\n      <td>FLAT</td>\n      <td>80° F / 27° C</td>\n      <td>70° F / 21° C</td>\n      <td>EZE</td>\n      <td>https://cdn3.sportngin.com/attachments/photo/d...</td>\n    </tr>\n    <tr>\n      <th>208</th>\n      <td>5150 Triathlon Series Maastricht-Limburg</td>\n      <td>Olympic</td>\n      <td>MAASTRICHT, NETHERLANDS</td>\n      <td>https://www.ironman.com/5150-maastricht-limburg</td>\n      <td>RIVER</td>\n      <td>ROLLING</td>\n      <td>ROLLING</td>\n      <td>77° F / 25° C</td>\n      <td>68° F / 20° C</td>\n      <td>MST</td>\n      <td>https://cdn4.sportngin.com/attachments/photo/7...</td>\n    </tr>\n    <tr>\n      <th>209</th>\n      <td>IRONMAN Pays d'Aix-en-Provence</td>\n      <td>Full</td>\n      <td>AIX-EN-PROVENCE, FRANCE</td>\n      <td>https://www.ironman.com/im-aix-en-provence</td>\n      <td>LAKE</td>\n      <td>ROLLING</td>\n      <td>ROLLING</td>\n      <td>68° F / 20° C</td>\n      <td>64° F / 18° C</td>\n      <td>MRS</td>\n      <td>https://cdn1.sportngin.com/attachments/photo/d...</td>\n    </tr>\n    <tr>\n      <th>210</th>\n      <td>IRONMAN North American Championship Des Moines</td>\n      <td>Full</td>\n      <td>DES MOINES, IOWA</td>\n      <td>https://www.ironman.com/im-des-moines</td>\n      <td>LAKE</td>\n      <td>ROLLING</td>\n      <td>FLAT</td>\n      <td>71° F / 22° C</td>\n      <td>72° F / 22° C</td>\n      <td>DSM</td>\n      <td>https://cdn1.sportngin.com/attachments/photo/f...</td>\n    </tr>\n  </tbody>\n</table>\n<p>211 rows × 11 columns</p>\n</div>"
     },
     "execution_count": 56,
     "metadata": {},
     "output_type": "execute_result"
    }
   ],
   "source": [
    "races_df"
   ],
   "metadata": {
    "collapsed": false,
    "pycharm": {
     "name": "#%%\n"
    }
   }
  },
  {
   "cell_type": "code",
   "execution_count": 57,
   "outputs": [],
   "source": [
    "races_df.to_excel('ironman_races.xlsx')"
   ],
   "metadata": {
    "collapsed": false,
    "pycharm": {
     "name": "#%%\n"
    }
   }
  },
  {
   "cell_type": "code",
   "execution_count": null,
   "outputs": [],
   "source": [],
   "metadata": {
    "collapsed": false,
    "pycharm": {
     "name": "#%%\n"
    }
   }
  }
 ],
 "metadata": {
  "kernelspec": {
   "display_name": "Python 3",
   "language": "python",
   "name": "python3"
  },
  "language_info": {
   "codemirror_mode": {
    "name": "ipython",
    "version": 2
   },
   "file_extension": ".py",
   "mimetype": "text/x-python",
   "name": "python",
   "nbconvert_exporter": "python",
   "pygments_lexer": "ipython2",
   "version": "2.7.6"
  }
 },
 "nbformat": 4,
 "nbformat_minor": 0
}